{
  "nbformat": 4,
  "nbformat_minor": 0,
  "metadata": {
    "colab": {
      "provenance": [],
      "authorship_tag": "ABX9TyMWq+U3kQFipsSL/CdGPb00",
      "include_colab_link": true
    },
    "kernelspec": {
      "name": "python3",
      "display_name": "Python 3"
    },
    "language_info": {
      "name": "python"
    }
  },
  "cells": [
    {
      "cell_type": "markdown",
      "metadata": {
        "id": "view-in-github",
        "colab_type": "text"
      },
      "source": [
        "<a href=\"https://colab.research.google.com/github/sivaji311/11239A029-daa/blob/main/DAA%20RECORD.ipynb\" target=\"_parent\"><img src=\"https://colab.research.google.com/assets/colab-badge.svg\" alt=\"Open In Colab\"/></a>"
      ]
    },
    {
      "cell_type": "code",
      "execution_count": 1,
      "metadata": {
        "colab": {
          "base_uri": "https://localhost:8080/"
        },
        "id": "N3KU_bYmTRK6",
        "outputId": "96879930-43d7-4af8-f6dd-fe28c052238f"
      },
      "outputs": [
        {
          "output_type": "stream",
          "name": "stdout",
          "text": [
            "Enter the number of disks: 3\n",
            "Move disk 1 from rod 0 to rod 2\n",
            "Move disk 2 from rod 0 to rod 1\n",
            "Move disk 1 from rod 2 to rod 1\n",
            "Move disk 3 from rod 0 to rod 2\n",
            "Move disk 1 from rod 1 to rod 0\n",
            "Move disk 2 from rod 1 to rod 2\n",
            "Move disk 1 from rod 0 to rod 2\n"
          ]
        }
      ],
      "source": [
        "def tower_hanoi(n, source, target, auxiliary):\n",
        "    if n == 1:\n",
        "        print(f\"Move disk 1 from rod {source} to rod {target}\")\n",
        "        return\n",
        "    tower_hanoi(n - 1, source, auxiliary, target)\n",
        "    print(f\"Move disk {n} from rod {source} to rod {target}\")\n",
        "    tower_hanoi(n - 1, auxiliary, target, source)\n",
        "\n",
        "n = int(input(\"Enter the number of disks: \"))\n",
        "tower_hanoi(n, 0, 2, 1)"
      ]
    },
    {
      "cell_type": "code",
      "source": [
        "def fibonacci(n):\n",
        "  a,b=0,1\n",
        "  for i in range(n):\n",
        "    print(a,end=\" \")\n",
        "    a,b=b,a+b\n",
        "n=int(input(\"enter the number of elements:\"))\n",
        "fibonacci(n)"
      ],
      "metadata": {
        "colab": {
          "base_uri": "https://localhost:8080/"
        },
        "id": "--q-EUalUF9C",
        "outputId": "3e844952-ee2e-4e47-85b0-5f942822351c"
      },
      "execution_count": 2,
      "outputs": [
        {
          "output_type": "stream",
          "name": "stdout",
          "text": [
            "enter the number of elements:5\n",
            "0 1 1 2 3 "
          ]
        }
      ]
    },
    {
      "cell_type": "code",
      "source": [
        "def fibonacci(n):\n",
        "  if n<=1:\n",
        "    return n\n",
        "  else:\n",
        "    return fibonacci(n-1) + fibonacci(n-2)\n",
        "n=int(input(\"enter the number of elements:\"))\n",
        "for i in range(n):\n",
        "  print(fibonacci(i),end=\" \")"
      ],
      "metadata": {
        "colab": {
          "base_uri": "https://localhost:8080/"
        },
        "id": "tf2dk3kBUKYB",
        "outputId": "0e26268b-3cc0-4578-c260-74c2e6742b34"
      },
      "execution_count": 3,
      "outputs": [
        {
          "output_type": "stream",
          "name": "stdout",
          "text": [
            "enter the number of elements:4\n",
            "0 1 1 2 "
          ]
        }
      ]
    },
    {
      "cell_type": "code",
      "source": [
        "def bin_packing(weights,bin_capacity):\n",
        "  bins=[]\n",
        "  weights.sort(reverse=True)\n",
        "  for weight in weights:\n",
        "    placed=False\n",
        "    for bin in bins:\n",
        "      if sum(bin)+weight<=bin_capacity:\n",
        "        bin.append(weight)\n",
        "        placed=True\n",
        "        break\n",
        "    if not placed:\n",
        "      bins.append([weight])\n",
        "  return bins\n",
        "weights=[10,20,30,40,50]\n",
        "bin_capacity=80\n",
        "bins=bin_packing(weights,bin_capacity)\n",
        "print(bins)\n",
        "for i,bin in enumerate(bins,i):\n",
        "  print(f\"Bin {i} : {bin}\")"
      ],
      "metadata": {
        "colab": {
          "base_uri": "https://localhost:8080/"
        },
        "id": "vRbjFYARUPPG",
        "outputId": "48e8abc2-4c14-4f7e-d544-919f03c07586"
      },
      "execution_count": 4,
      "outputs": [
        {
          "output_type": "stream",
          "name": "stdout",
          "text": [
            "[[50, 30], [40, 20, 10]]\n",
            "Bin 3 : [50, 30]\n",
            "Bin 4 : [40, 20, 10]\n"
          ]
        }
      ]
    },
    {
      "cell_type": "code",
      "source": [
        "def fractional_knapsack(values, weights, capacity):\n",
        "    items = []\n",
        "    for i in range(len(values)):\n",
        "        ratio = values[i] / weights[i]\n",
        "        items.append((ratio, values[i], weights[i]))\n",
        "\n",
        "\n",
        "    items.sort(reverse=True)\n",
        "\n",
        "    total_value = 0.0\n",
        "    for ratio, value, weight in items:\n",
        "        if capacity >= weight:\n",
        "\n",
        "            capacity -= weight\n",
        "            total_value += value\n",
        "        else:\n",
        "\n",
        "            total_value += ratio * capacity\n",
        "            break\n",
        "\n",
        "    return total_value\n",
        "\n",
        "values = [60, 100, 120]\n",
        "weights = [10, 20, 30]\n",
        "capacity = 50\n",
        "\n",
        "max_value = fractional_knapsack(values, weights, capacity)\n",
        "print(f\"Maximum value in Knapsack: {max_value:.2f}\")"
      ],
      "metadata": {
        "colab": {
          "base_uri": "https://localhost:8080/"
        },
        "id": "oHIeo-eaUTHa",
        "outputId": "6e454a05-254c-4f65-856f-d90943b496d3"
      },
      "execution_count": 5,
      "outputs": [
        {
          "output_type": "stream",
          "name": "stdout",
          "text": [
            "Maximum value in Knapsack: 240.00\n"
          ]
        }
      ]
    },
    {
      "cell_type": "code",
      "source": [
        "def knapsack(weights, values, capacity):\n",
        "    n = len(values)\n",
        "    dp = [0] * (capacity + 1)\n",
        "    for i in range(n):\n",
        "        for w in range(capacity, weights[i] - 1, -1):\n",
        "            dp[w] = max(dp[w], dp[w - weights[i]] + values[i])\n",
        "    return dp[capacity]\n",
        "\n",
        "values = [23, 45, 12, 7, 5]\n",
        "weights = [10, 20, 30, 40, 50]\n",
        "capacity = 50\n",
        "\n",
        "result = knapsack(weights, values, capacity)\n",
        "print(\"Knapsack value is:\", result)"
      ],
      "metadata": {
        "colab": {
          "base_uri": "https://localhost:8080/"
        },
        "id": "ko1IcB-JUYHl",
        "outputId": "ec2f593b-16af-40c3-b812-9ad8f9d53804"
      },
      "execution_count": 6,
      "outputs": [
        {
          "output_type": "stream",
          "name": "stdout",
          "text": [
            "Knapsack value is: 68\n"
          ]
        }
      ]
    },
    {
      "cell_type": "code",
      "source": [
        "def tsp(graph, visited, current_city, count, cost, path, start):\n",
        "    global min_cost, best_path\n",
        "    if count == len(graph) and graph[current_city][start] != 0:\n",
        "        total_cost = cost + graph[current_city][start]\n",
        "        if total_cost < min_cost:\n",
        "            min_cost = total_cost\n",
        "            best_path = path + [start]\n",
        "        return\n",
        "\n",
        "    for next_city in range(len(graph)):\n",
        "        if not visited[next_city] and graph[current_city][next_city] != 0:\n",
        "            visited[next_city] = True\n",
        "            tsp(graph, visited, next_city, count + 1, cost + graph[current_city][next_city], path + [next_city], start)\n",
        "            visited[next_city] = False\n",
        "graph = [\n",
        "    [0, 10, 15, 20],\n",
        "    [10, 0, 35, 25],\n",
        "    [15, 35, 0, 30],\n",
        "    [20, 25, 30, 0]\n",
        "]\n",
        "n = len(graph)\n",
        "visited = [False] * n\n",
        "visited[0] = True\n",
        "min_cost = float('inf')\n",
        "best_path = []\n",
        "\n",
        "tsp(graph, visited, 0, 1, 0, [0], 0)\n",
        "\n",
        "print(\"Minimum cost:\", min_cost)\n",
        "print(\"Best path:\", best_path)"
      ],
      "metadata": {
        "colab": {
          "base_uri": "https://localhost:8080/"
        },
        "id": "Xr_caBRDUbtI",
        "outputId": "ee15e2b1-10f6-4979-89c9-4b7e89e8845f"
      },
      "execution_count": 7,
      "outputs": [
        {
          "output_type": "stream",
          "name": "stdout",
          "text": [
            "Minimum cost: 80\n",
            "Best path: [0, 1, 3, 2, 0]\n"
          ]
        }
      ]
    },
    {
      "cell_type": "code",
      "source": [
        "n = 4\n",
        "edges = [\n",
        "    (10, 0, 1),\n",
        "    (6, 0, 2),\n",
        "    (5, 0, 3),\n",
        "    (15, 1, 3),\n",
        "    (4, 2, 3)\n",
        "]\n",
        "edges.sort()\n",
        "parent = [i for i in range(n)]\n",
        "def find(i):\n",
        "    while parent[i] != i:\n",
        "        i = parent[i]\n",
        "    return i\n",
        "def union(i, j):\n",
        "    a = find(i)\n",
        "    b = find(j)\n",
        "    parent[a] = b\n",
        "mst = []\n",
        "cost = 0\n",
        "for w, u, v in edges:\n",
        "    if find(u) != find(v):\n",
        "        union(u, v)\n",
        "        mst.append((u, v, w))\n",
        "        cost += w\n",
        "print(\"Minimum cost:\", cost)\n",
        "print(\"Edges in MST:\")\n",
        "for u, v, w in mst:\n",
        "    print(f\"{u} -- {v} == {w}\")"
      ],
      "metadata": {
        "colab": {
          "base_uri": "https://localhost:8080/"
        },
        "id": "PpmXcAwFUgAN",
        "outputId": "25ecf9b5-a651-45d4-e9a9-64d2ff19aafe"
      },
      "execution_count": 8,
      "outputs": [
        {
          "output_type": "stream",
          "name": "stdout",
          "text": [
            "Minimum cost: 19\n",
            "Edges in MST:\n",
            "2 -- 3 == 4\n",
            "0 -- 3 == 5\n",
            "0 -- 1 == 10\n"
          ]
        }
      ]
    },
    {
      "cell_type": "code",
      "source": [
        "n = 5\n",
        "graph = [\n",
        "    [0, 2, 0, 6, 0],\n",
        "    [2, 0, 3, 8, 5],\n",
        "    [0, 3, 0, 0, 7],\n",
        "    [6, 8, 0, 0, 9],\n",
        "    [0, 5, 7, 9, 0]\n",
        "]\n",
        "selected = [False] * n\n",
        "selected[0] = True\n",
        "edges = 0\n",
        "cost = 0\n",
        "print(\"Edge : Weight\")\n",
        "while edges < n - 1:\n",
        "    min_weight = float('inf')\n",
        "    x = y = -1\n",
        "    for i in range(n):\n",
        "        if selected[i]:\n",
        "            for j in range(n):\n",
        "                if not selected[j] and graph[i][j] > 0:\n",
        "                    if graph[i][j] < min_weight:\n",
        "                        min_weight = graph[i][j]\n",
        "                        x = i\n",
        "                        y = j\n",
        "    print(f\"{x} - {y} : {min_weight}\")\n",
        "    cost += min_weight\n",
        "    selected[y] = True\n",
        "    edges += 1\n",
        "print(\"Minimum Cost:\", cost)"
      ],
      "metadata": {
        "colab": {
          "base_uri": "https://localhost:8080/"
        },
        "id": "rjrLQsTVUjSo",
        "outputId": "5a5e4455-4aca-4bc5-ddfa-46f0f4ce6e47"
      },
      "execution_count": 10,
      "outputs": [
        {
          "output_type": "stream",
          "name": "stdout",
          "text": [
            "Edge : Weight\n",
            "0 - 1 : 2\n",
            "1 - 2 : 3\n",
            "1 - 4 : 5\n",
            "0 - 3 : 6\n",
            "Minimum Cost: 16\n"
          ]
        }
      ]
    },
    {
      "cell_type": "code",
      "source": [
        "n = 5\n",
        "graph = [\n",
        "    [0, 10, 0, 0, 5],\n",
        "    [10, 0, 20, 0, 0],\n",
        "    [0, 20, 0, 10, 0],\n",
        "    [0, 0, 10, 0, 10],\n",
        "    [5, 0, 0, 10, 0]\n",
        "]\n",
        "def dijkstra(graph, start):\n",
        "    n = len(graph)\n",
        "    distances = [float('inf')] * n\n",
        "    distances[start] = 0\n",
        "    visited = [False] * n\n",
        "\n",
        "    for _ in range(n):\n",
        "        min_distance = float('inf')\n",
        "        min_node = -1\n",
        "        for i in range(n):\n",
        "            if not visited[i] and distances[i] < min_distance:\n",
        "                min_distance = distances[i]\n",
        "                min_node = i\n",
        "\n",
        "        visited[min_node] = True\n",
        "        for i in range(n):\n",
        "            if graph[min_node][i] != 0 and not visited[i]:\n",
        "                new_distance = distances[min_node] + graph[min_node][i]\n",
        "                if new_distance < distances[i]:\n",
        "                    distances[i] = new_distance\n",
        "\n",
        "    return distances\n",
        "start_node = 0\n",
        "distances = dijkstra(graph, start_node)\n",
        "print(\"Shortest distances from node\", start_node)\n",
        "for i, dist in enumerate(distances):\n",
        "    print(f\"Node {i}: {dist}\")"
      ],
      "metadata": {
        "colab": {
          "base_uri": "https://localhost:8080/"
        },
        "id": "lTGywgZFUrkb",
        "outputId": "dc6dd681-42f6-4194-b174-728747ba1260"
      },
      "execution_count": 11,
      "outputs": [
        {
          "output_type": "stream",
          "name": "stdout",
          "text": [
            "Shortest distances from node 0\n",
            "Node 0: 0\n",
            "Node 1: 10\n",
            "Node 2: 25\n",
            "Node 3: 15\n",
            "Node 4: 5\n"
          ]
        }
      ]
    },
    {
      "cell_type": "code",
      "source": [
        "n = 5\n",
        "edges = [\n",
        "    (0, 1, -1),\n",
        "    (0, 2, 4),\n",
        "    (1, 2, 3),\n",
        "    (1, 3, 2),\n",
        "    (1, 4, 2),\n",
        "    (3, 2, 5),\n",
        "    (3, 1, 1),\n",
        "    (4, 3, -3)\n",
        "]\n",
        "def bellman_ford(n, edges, start):\n",
        "\n",
        "    distances = [float('inf')] * n\n",
        "    distances[start] = 0\n",
        "\n",
        "    for _ in range(n - 1):\n",
        "        for u, v, weight in edges:\n",
        "            if distances[u] != float('inf') and distances[u] + weight < distances[v]:\n",
        "                distances[v] = distances[u] + weight\n",
        "\n",
        "    for u, v, weight in edges:\n",
        "        if distances[u] != float('inf') and distances[u] + weight < distances[v]:\n",
        "            print(\"Graph contains a negative weight cycle\")\n",
        "            return\n",
        "\n",
        "    return distances\n",
        "start_node = 0\n",
        "distances = bellman_ford(n, edges, start_node)\n",
        "if distances:\n",
        "    print(\"Shortest distances from node\", start_node)\n",
        "    for i, dist in enumerate(distances):\n",
        "        print(f\"Node {i}: {dist}\")"
      ],
      "metadata": {
        "colab": {
          "base_uri": "https://localhost:8080/"
        },
        "id": "pzDpwiUJUvGe",
        "outputId": "54c92faa-600f-42d9-fbc9-530a2ee1ecda"
      },
      "execution_count": 12,
      "outputs": [
        {
          "output_type": "stream",
          "name": "stdout",
          "text": [
            "Shortest distances from node 0\n",
            "Node 0: 0\n",
            "Node 1: -1\n",
            "Node 2: 2\n",
            "Node 3: -2\n",
            "Node 4: 1\n"
          ]
        }
      ]
    },
    {
      "cell_type": "code",
      "source": [
        "import random\n",
        "def find(parent, x):\n",
        "    if parent[x] != x:\n",
        "        parent[x] = find(parent, parent[x])\n",
        "    return parent[x]\n",
        "def union(parent, rank, x, y):\n",
        "    rootX = find(parent, x)\n",
        "    rootY = find(parent, y)\n",
        "    if rootX != rootY:\n",
        "        if rank[rootX] > rank[rootY]:\n",
        "            parent[rootY] = rootX\n",
        "        elif rank[rootX] < rank[rootY]:\n",
        "            parent[rootX] = rootY\n",
        "        else:\n",
        "            parent[rootY] = rootX\n",
        "            rank[rootX] += 1\n",
        "        return True\n",
        "    return False\n",
        "def randomized_kruskal(n, edges):\n",
        "    random.shuffle(edges)\n",
        "\n",
        "    parent = [i for i in range(n)]\n",
        "    rank = [0] * n\n",
        "    mst = []\n",
        "    mst_weight = 0\n",
        "\n",
        "    for u, v, weight in edges:\n",
        "        if union(parent, rank, u, v):\n",
        "            mst.append((u, v, weight))\n",
        "            mst_weight += weight\n",
        "\n",
        "    return mst_weight, mst\n",
        "n = 5\n",
        "edges = [\n",
        "    (0, 1, 10),\n",
        "    (0, 2, 6),\n",
        "    (0, 3, 5),\n",
        "    (1, 3, 15),\n",
        "    (2, 3, 4)\n",
        "]\n",
        "mst_weight, mst = randomized_kruskal(n, edges)\n",
        "print(\"Minimum Spanning Tree Weight:\", mst_weight)\n",
        "print(\"Edges in MST:\")\n",
        "for u, v, weight in mst:\n",
        "    print(f\"{u} - {v} == {weight}\")"
      ],
      "metadata": {
        "colab": {
          "base_uri": "https://localhost:8080/"
        },
        "id": "4TZeJzbSUx8Y",
        "outputId": "7624a6f8-bcd6-482c-fd64-1dcf8af32aae"
      },
      "execution_count": 13,
      "outputs": [
        {
          "output_type": "stream",
          "name": "stdout",
          "text": [
            "Minimum Spanning Tree Weight: 29\n",
            "Edges in MST:\n",
            "0 - 1 == 10\n",
            "1 - 3 == 15\n",
            "2 - 3 == 4\n"
          ]
        }
      ]
    },
    {
      "cell_type": "code",
      "source": [
        "import random\n",
        "\n",
        "def monte_carlo_pi(num_samples):\n",
        "    inside_circle = 0\n",
        "\n",
        "\n",
        "    for _ in range(num_samples):\n",
        "\n",
        "        x = random.uniform(-1, 1)\n",
        "        y = random.uniform(-1, 1)\n",
        "\n",
        "\n",
        "        if x*2 + y*2 <= 1:\n",
        "            inside_circle += 1\n",
        "\n",
        "    pi_estimate = 4 * (inside_circle / num_samples)\n",
        "    return pi_estimate\n",
        "\n",
        "\n",
        "num_samples = 1000000\n",
        "estimated_pi = monte_carlo_pi(num_samples)\n",
        "print(f\"Estimated value of Pi: {estimated_pi}\")"
      ],
      "metadata": {
        "colab": {
          "base_uri": "https://localhost:8080/"
        },
        "id": "qjjft1W_U0p-",
        "outputId": "1c475381-4f4c-4d97-fca0-40e4d8dd793d"
      },
      "execution_count": 14,
      "outputs": [
        {
          "output_type": "stream",
          "name": "stdout",
          "text": [
            "Estimated value of Pi: 2.87236\n"
          ]
        }
      ]
    }
  ]
}